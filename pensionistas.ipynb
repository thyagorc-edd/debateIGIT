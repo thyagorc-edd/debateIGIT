{
 "cells": [
  {
   "cell_type": "markdown",
   "source": [
    "### Início\n",
    "\n",
    "#### Importação das Libs e criação da sessão spark"
   ],
   "metadata": {}
  },
  {
   "cell_type": "code",
   "execution_count": 1,
   "source": [
    "from pyspark.sql import SparkSession\n",
    "from pyspark.sql.types import *\n",
    "\n",
    "import pyspark.sql.functions as f\n",
    "\n",
    "import pandas as pd\n",
    "import requests\n",
    "import zipfile\n",
    "import os\n",
    "\n",
    "import findspark\n",
    "findspark.init()\n",
    "\n",
    "spark = (\n",
    "    SparkSession\n",
    "    .builder\n",
    "    .config(\"spark.serializer\", \"org.apache.spark.serializer.KryoSerializer\")\n",
    "    .getOrCreate()\n",
    ")\n"
   ],
   "outputs": [
    {
     "output_type": "stream",
     "name": "stderr",
     "text": [
      "21/09/18 16:00:44 WARN Utils: Your hostname, iMac-de-Sergio-2.local resolves to a loopback address: 127.0.0.1; using 192.168.0.222 instead (on interface en0)\n",
      "21/09/18 16:00:44 WARN Utils: Set SPARK_LOCAL_IP if you need to bind to another address\n",
      "21/09/18 16:00:45 WARN NativeCodeLoader: Unable to load native-hadoop library for your platform... using builtin-java classes where applicable\n",
      "Using Spark's default log4j profile: org/apache/spark/log4j-defaults.properties\n",
      "Setting default log level to \"WARN\".\n",
      "To adjust logging level use sc.setLogLevel(newLevel). For SparkR, use setLogLevel(newLevel).\n"
     ]
    }
   ],
   "metadata": {}
  },
  {
   "cell_type": "code",
   "execution_count": 2,
   "source": [
    "import pyspark.sql.functions as f\n",
    "\n",
    "# Local Datalake Paths\n",
    "local_zones = {\n",
    "    'landing': './data/landing_zone',\n",
    "    'raw': './data/raw_zone',\n",
    "    'staging': './data/staging_zone',\n",
    "    'consumer': './data/consumer_zone',\n",
    "}"
   ],
   "outputs": [],
   "metadata": {}
  },
  {
   "cell_type": "markdown",
   "source": [
    "#### Etapa 1 - Download do Dataset de Pensionistas"
   ],
   "metadata": {}
  },
  {
   "cell_type": "code",
   "execution_count": 3,
   "source": [
    "# Link para download do arquivo de pensionistas\n",
    "zipUrl = 'http://repositorio.dados.gov.br/segrt/pensionistas/PENSIONISTAS_082021.zip'\n",
    "\n",
    "### Landing Zone\n",
    "# Path do diretorio para gravação do arquivo\n",
    "outPath = f'{local_zones[\"landing\"]}/pensionistas'\n",
    "os.makedirs(outPath, exist_ok=True)\n",
    "    \n",
    "# baixar arquivo direto da fonte\n",
    "req = requests.get(zipUrl)\n",
    "zipOut = f'{outPath}/PENSIONISTAS.zip'\n",
    "print('Saving:', zipOut)\n",
    "with open(zipOut, 'wb') as f:\n",
    "    f.write(req.content)\n",
    "    f.close()\n",
    "\n",
    "\n",
    "### Raw Zone\n",
    "outPath = f'{local_zones[\"raw\"]}/pensionistas'\n",
    "os.makedirs(outPath, exist_ok=True)\n",
    "\n",
    "# Unzip - Extract all\n",
    "with zipfile.ZipFile(zipOut, 'r') as zipObj:\n",
    "   # Extract all\n",
    "   listOfFileNames = zipObj.namelist()\n",
    "   # varre a lista de arquivos - file names\n",
    "   for fileName in listOfFileNames:\n",
    "       # Apenas .csv\n",
    "       if fileName.endswith('.csv'):\n",
    "           print('Unzip:', fileName, ' -> ', outPath)\n",
    "           zipObj.extract(fileName, path=outPath)"
   ],
   "outputs": [
    {
     "output_type": "stream",
     "name": "stdout",
     "text": [
      "Saving: ./data/landing_zone/pensionistas/PENSIONISTAS.zip\n",
      "Unzip: PENSIONISTAS_082021.csv  ->  ./data/raw_zone/pensionistas\n"
     ]
    }
   ],
   "metadata": {}
  },
  {
   "cell_type": "markdown",
   "source": [
    "#### Etapa 02 - Leitura do dataframe da Raw e formatação para Staging"
   ],
   "metadata": {}
  },
  {
   "cell_type": "code",
   "execution_count": 4,
   "source": [
    "import pyspark.sql.functions as f\n",
    "\n",
    "csvFile = f'{local_zones[\"raw\"]}/pensionistas/{fileName}'\n",
    "\n",
    "# Carregando o Dataframe\n",
    "df_origem = (\n",
    "    spark.read\n",
    "    .format('csv')\n",
    "    .option('sep',';')\n",
    "    .option('header',True)\n",
    "    .load(csvFile)\n",
    ")\n",
    "\n",
    "# Selecionando as Colunas representativas\n",
    "cols = ['NOME DO BENEFICIARIO', \n",
    "        'NOME DO ORGAO',\n",
    "        'DATA DE NASCIMENTO',\n",
    "        'UF DA UPAG DE VINCULACAO',\n",
    "        'NATUREZA PENSAO',\n",
    "        'DATA INICIO DO BENEFICIO',\n",
    "        'DATA FIM DO BENEFICIO',\n",
    "        'RENDIMENTO LIQUIDO',\n",
    "        'PAGAMENTO SUSPENSO']\n",
    "\n",
    "# Renomeando das colunas\n",
    "df_pensionistas = (\n",
    "    df_origem\n",
    "    .select(cols)\n",
    "    .withColumnRenamed('NOME DO BENEFICIARIO','nome')\n",
    "    .withColumnRenamed('NOME DO ORGAO','orgao')\n",
    "    .withColumnRenamed('DATA DE NASCIMENTO','dtnasc')\n",
    "    .withColumnRenamed('UF DA UPAG DE VINCULACAO','uf')\n",
    "    .withColumnRenamed('NATUREZA PENSAO','natpensao')\n",
    "    .withColumnRenamed('DATA INICIO DO BENEFICIO','dtiniben')\n",
    "    .withColumnRenamed('DATA FIM DO BENEFICIO','dtfimben')\n",
    "    .withColumnRenamed('RENDIMENTO LIQUIDO','rendLiquido')\n",
    "    .withColumnRenamed('PAGAMENTO SUSPENSO','pagsuspenso')\n",
    ")\n",
    "\n",
    "\n",
    "# Trantando e convertendo as colunas\n",
    "df_pensionistas = (\n",
    "    df_pensionistas\n",
    "    .select('nome', 'orgao', 'dtnasc', 'uf', 'natpensao', 'dtiniben', 'dtfimben', 'rendLiquido', 'pagsuspenso')\n",
    "    .withColumn('dtnasc', f.to_date( f.col('dtnasc'),'ddMMyyyy') )\n",
    "    .withColumn('dtiniben', f.to_date( f.col('dtiniben'),'ddMMyyyy') )\n",
    "    .withColumn('dtfimben', f.to_date( f.col('dtfimben'),'ddMMyyyy') )\n",
    "    .withColumn('rendLiquido', f.regexp_replace(f.regexp_replace(f.col('rendLiquido'), \"\\\\.\", \"\"), \"\\\\,\", \".\"))\n",
    "    .withColumn('rendLiquido', f.col('rendLiquido').cast('float') )\n",
    "    .withColumn('pagsuspenso', f.when(f.col('pagsuspenso') == 'NAO', False)\n",
    "                            .when(f.col('pagsuspenso') == 'SIM', True)\n",
    "                            .otherwise(None) )\n",
    ")\n",
    "\n",
    "del df_origem"
   ],
   "outputs": [
    {
     "output_type": "stream",
     "name": "stderr",
     "text": []
    }
   ],
   "metadata": {}
  },
  {
   "cell_type": "code",
   "execution_count": 5,
   "source": [
    "df_pensionistas.limit(5).toPandas()"
   ],
   "outputs": [
    {
     "output_type": "execute_result",
     "data": {
      "text/html": [
       "<div>\n",
       "<style scoped>\n",
       "    .dataframe tbody tr th:only-of-type {\n",
       "        vertical-align: middle;\n",
       "    }\n",
       "\n",
       "    .dataframe tbody tr th {\n",
       "        vertical-align: top;\n",
       "    }\n",
       "\n",
       "    .dataframe thead th {\n",
       "        text-align: right;\n",
       "    }\n",
       "</style>\n",
       "<table border=\"1\" class=\"dataframe\">\n",
       "  <thead>\n",
       "    <tr style=\"text-align: right;\">\n",
       "      <th></th>\n",
       "      <th>nome</th>\n",
       "      <th>orgao</th>\n",
       "      <th>dtnasc</th>\n",
       "      <th>uf</th>\n",
       "      <th>natpensao</th>\n",
       "      <th>dtiniben</th>\n",
       "      <th>dtfimben</th>\n",
       "      <th>rendLiquido</th>\n",
       "      <th>pagsuspenso</th>\n",
       "    </tr>\n",
       "  </thead>\n",
       "  <tbody>\n",
       "    <tr>\n",
       "      <th>0</th>\n",
       "      <td>MARIA DA CRUZ DOS SANTOS</td>\n",
       "      <td>MINIST.DA AGRICULTURA,PECUARIA E ABAST.</td>\n",
       "      <td>1955-01-28</td>\n",
       "      <td>DF</td>\n",
       "      <td>VITALICIA</td>\n",
       "      <td>2021-01-29</td>\n",
       "      <td>None</td>\n",
       "      <td>3039.580078</td>\n",
       "      <td>False</td>\n",
       "    </tr>\n",
       "    <tr>\n",
       "      <th>1</th>\n",
       "      <td>CARMEN LUCINDA FARKAS DE ARAUJO</td>\n",
       "      <td>MINIST.DA AGRICULTURA,PECUARIA E ABAST.</td>\n",
       "      <td>1951-04-18</td>\n",
       "      <td>DF</td>\n",
       "      <td>VITALICIA</td>\n",
       "      <td>1998-02-10</td>\n",
       "      <td>None</td>\n",
       "      <td>1216.250000</td>\n",
       "      <td>False</td>\n",
       "    </tr>\n",
       "    <tr>\n",
       "      <th>2</th>\n",
       "      <td>MARIA DE LOURDES DA SILVA</td>\n",
       "      <td>MINIST.DA AGRICULTURA,PECUARIA E ABAST.</td>\n",
       "      <td>1948-01-14</td>\n",
       "      <td>DF</td>\n",
       "      <td>TEMPORARIA</td>\n",
       "      <td>2016-01-25</td>\n",
       "      <td>None</td>\n",
       "      <td>2697.459961</td>\n",
       "      <td>False</td>\n",
       "    </tr>\n",
       "    <tr>\n",
       "      <th>3</th>\n",
       "      <td>DIOMARINA ALVES DOS SANTOS</td>\n",
       "      <td>MINIST.DA AGRICULTURA,PECUARIA E ABAST.</td>\n",
       "      <td>1944-06-18</td>\n",
       "      <td>DF</td>\n",
       "      <td>VITALICIA</td>\n",
       "      <td>2010-12-19</td>\n",
       "      <td>None</td>\n",
       "      <td>6953.770020</td>\n",
       "      <td>False</td>\n",
       "    </tr>\n",
       "    <tr>\n",
       "      <th>4</th>\n",
       "      <td>MARIZETE DIAS SOUZA</td>\n",
       "      <td>MINIST.DA AGRICULTURA,PECUARIA E ABAST.</td>\n",
       "      <td>1954-03-18</td>\n",
       "      <td>DF</td>\n",
       "      <td>VITALICIA</td>\n",
       "      <td>2012-10-13</td>\n",
       "      <td>None</td>\n",
       "      <td>14994.889648</td>\n",
       "      <td>False</td>\n",
       "    </tr>\n",
       "  </tbody>\n",
       "</table>\n",
       "</div>"
      ],
      "text/plain": [
       "                              nome                                    orgao  \\\n",
       "0         MARIA DA CRUZ DOS SANTOS  MINIST.DA AGRICULTURA,PECUARIA E ABAST.   \n",
       "1  CARMEN LUCINDA FARKAS DE ARAUJO  MINIST.DA AGRICULTURA,PECUARIA E ABAST.   \n",
       "2        MARIA DE LOURDES DA SILVA  MINIST.DA AGRICULTURA,PECUARIA E ABAST.   \n",
       "3       DIOMARINA ALVES DOS SANTOS  MINIST.DA AGRICULTURA,PECUARIA E ABAST.   \n",
       "4              MARIZETE DIAS SOUZA  MINIST.DA AGRICULTURA,PECUARIA E ABAST.   \n",
       "\n",
       "       dtnasc  uf   natpensao    dtiniben dtfimben   rendLiquido  pagsuspenso  \n",
       "0  1955-01-28  DF   VITALICIA  2021-01-29     None   3039.580078        False  \n",
       "1  1951-04-18  DF   VITALICIA  1998-02-10     None   1216.250000        False  \n",
       "2  1948-01-14  DF  TEMPORARIA  2016-01-25     None   2697.459961        False  \n",
       "3  1944-06-18  DF   VITALICIA  2010-12-19     None   6953.770020        False  \n",
       "4  1954-03-18  DF   VITALICIA  2012-10-13     None  14994.889648        False  "
      ]
     },
     "metadata": {},
     "execution_count": 5
    }
   ],
   "metadata": {}
  },
  {
   "cell_type": "code",
   "execution_count": 6,
   "source": [
    "(\n",
    "    df_pensionistas\n",
    "    .groupBy('pagsuspenso')\n",
    "    .agg(f.count('nome'))\n",
    "    .toPandas()\n",
    ")"
   ],
   "outputs": [
    {
     "output_type": "stream",
     "name": "stderr",
     "text": []
    },
    {
     "output_type": "execute_result",
     "data": {
      "text/html": [
       "<div>\n",
       "<style scoped>\n",
       "    .dataframe tbody tr th:only-of-type {\n",
       "        vertical-align: middle;\n",
       "    }\n",
       "\n",
       "    .dataframe tbody tr th {\n",
       "        vertical-align: top;\n",
       "    }\n",
       "\n",
       "    .dataframe thead th {\n",
       "        text-align: right;\n",
       "    }\n",
       "</style>\n",
       "<table border=\"1\" class=\"dataframe\">\n",
       "  <thead>\n",
       "    <tr style=\"text-align: right;\">\n",
       "      <th></th>\n",
       "      <th>pagsuspenso</th>\n",
       "      <th>count(nome)</th>\n",
       "    </tr>\n",
       "  </thead>\n",
       "  <tbody>\n",
       "    <tr>\n",
       "      <th>0</th>\n",
       "      <td>True</td>\n",
       "      <td>2791</td>\n",
       "    </tr>\n",
       "    <tr>\n",
       "      <th>1</th>\n",
       "      <td>False</td>\n",
       "      <td>289255</td>\n",
       "    </tr>\n",
       "  </tbody>\n",
       "</table>\n",
       "</div>"
      ],
      "text/plain": [
       "   pagsuspenso  count(nome)\n",
       "0         True         2791\n",
       "1        False       289255"
      ]
     },
     "metadata": {},
     "execution_count": 6
    }
   ],
   "metadata": {}
  },
  {
   "cell_type": "code",
   "execution_count": 7,
   "source": [
    "# dados Nulos\n",
    "\n",
    "cols = ['nome','orgao','dtnasc','uf','natpensao','dtiniben','dtfimben','rendLiquido','pagsuspenso']\n",
    "nulos = []\n",
    "for c in cols:\n",
    "    nulos.append( [c, df_pensionistas.select(c).filter(f'{c} is NULL').count()] )\n",
    "\n",
    "nulos\n"
   ],
   "outputs": [
    {
     "output_type": "stream",
     "name": "stderr",
     "text": []
    },
    {
     "output_type": "execute_result",
     "data": {
      "text/plain": [
       "[['nome', 0],\n",
       " ['orgao', 0],\n",
       " ['dtnasc', 54],\n",
       " ['uf', 11],\n",
       " ['natpensao', 0],\n",
       " ['dtiniben', 842],\n",
       " ['dtfimben', 281168],\n",
       " ['rendLiquido', 0],\n",
       " ['pagsuspenso', 0]]"
      ]
     },
     "metadata": {},
     "execution_count": 7
    }
   ],
   "metadata": {}
  },
  {
   "cell_type": "code",
   "execution_count": 8,
   "source": [
    "\n",
    "(\n",
    "    df_pensionistas\n",
    "    .select(cols)\n",
    "    .filter('dtnasc is NULL')\n",
    "    .limit(5)\n",
    "    .toPandas()\n",
    ")"
   ],
   "outputs": [
    {
     "output_type": "stream",
     "name": "stderr",
     "text": []
    },
    {
     "output_type": "execute_result",
     "data": {
      "text/html": [
       "<div>\n",
       "<style scoped>\n",
       "    .dataframe tbody tr th:only-of-type {\n",
       "        vertical-align: middle;\n",
       "    }\n",
       "\n",
       "    .dataframe tbody tr th {\n",
       "        vertical-align: top;\n",
       "    }\n",
       "\n",
       "    .dataframe thead th {\n",
       "        text-align: right;\n",
       "    }\n",
       "</style>\n",
       "<table border=\"1\" class=\"dataframe\">\n",
       "  <thead>\n",
       "    <tr style=\"text-align: right;\">\n",
       "      <th></th>\n",
       "      <th>nome</th>\n",
       "      <th>orgao</th>\n",
       "      <th>dtnasc</th>\n",
       "      <th>uf</th>\n",
       "      <th>natpensao</th>\n",
       "      <th>dtiniben</th>\n",
       "      <th>dtfimben</th>\n",
       "      <th>rendLiquido</th>\n",
       "      <th>pagsuspenso</th>\n",
       "    </tr>\n",
       "  </thead>\n",
       "  <tbody>\n",
       "    <tr>\n",
       "      <th>0</th>\n",
       "      <td>MARIETTA DA SILVA BASTOS</td>\n",
       "      <td>DEPARTAMENTO NAC.DE INFRAEST. DE TRANSP.</td>\n",
       "      <td>None</td>\n",
       "      <td>RJ</td>\n",
       "      <td>VITALICIA</td>\n",
       "      <td>1994-10-27</td>\n",
       "      <td>None</td>\n",
       "      <td>1100.0</td>\n",
       "      <td>False</td>\n",
       "    </tr>\n",
       "    <tr>\n",
       "      <th>1</th>\n",
       "      <td>IBERTINA RODRIGUES DA SILVA</td>\n",
       "      <td>DEP.DE CENTRAL.SERV.DE INATIVOS E PENS.</td>\n",
       "      <td>None</td>\n",
       "      <td>DF</td>\n",
       "      <td>TEMPORARIA</td>\n",
       "      <td>None</td>\n",
       "      <td>None</td>\n",
       "      <td>1100.0</td>\n",
       "      <td>False</td>\n",
       "    </tr>\n",
       "    <tr>\n",
       "      <th>2</th>\n",
       "      <td>MARIA GENEROSA RODRIGUES</td>\n",
       "      <td>DEP.DE CENTRAL.SERV.DE INATIVOS E PENS.</td>\n",
       "      <td>None</td>\n",
       "      <td>DF</td>\n",
       "      <td>TEMPORARIA</td>\n",
       "      <td>None</td>\n",
       "      <td>None</td>\n",
       "      <td>1100.0</td>\n",
       "      <td>False</td>\n",
       "    </tr>\n",
       "    <tr>\n",
       "      <th>3</th>\n",
       "      <td>NAIZA SANTOS MARCOS</td>\n",
       "      <td>DEP.DE CENTRAL.SERV.DE INATIVOS E PENS.</td>\n",
       "      <td>None</td>\n",
       "      <td>DF</td>\n",
       "      <td>TEMPORARIA</td>\n",
       "      <td>None</td>\n",
       "      <td>None</td>\n",
       "      <td>1100.0</td>\n",
       "      <td>False</td>\n",
       "    </tr>\n",
       "    <tr>\n",
       "      <th>4</th>\n",
       "      <td>MARIA CONCEICAO DE MELO</td>\n",
       "      <td>DEP.DE CENTRAL.SERV.DE INATIVOS E PENS.</td>\n",
       "      <td>None</td>\n",
       "      <td>DF</td>\n",
       "      <td>TEMPORARIA</td>\n",
       "      <td>None</td>\n",
       "      <td>None</td>\n",
       "      <td>1100.0</td>\n",
       "      <td>False</td>\n",
       "    </tr>\n",
       "  </tbody>\n",
       "</table>\n",
       "</div>"
      ],
      "text/plain": [
       "                          nome                                     orgao  \\\n",
       "0     MARIETTA DA SILVA BASTOS  DEPARTAMENTO NAC.DE INFRAEST. DE TRANSP.   \n",
       "1  IBERTINA RODRIGUES DA SILVA   DEP.DE CENTRAL.SERV.DE INATIVOS E PENS.   \n",
       "2     MARIA GENEROSA RODRIGUES   DEP.DE CENTRAL.SERV.DE INATIVOS E PENS.   \n",
       "3          NAIZA SANTOS MARCOS   DEP.DE CENTRAL.SERV.DE INATIVOS E PENS.   \n",
       "4      MARIA CONCEICAO DE MELO   DEP.DE CENTRAL.SERV.DE INATIVOS E PENS.   \n",
       "\n",
       "  dtnasc  uf   natpensao    dtiniben dtfimben  rendLiquido  pagsuspenso  \n",
       "0   None  RJ   VITALICIA  1994-10-27     None       1100.0        False  \n",
       "1   None  DF  TEMPORARIA        None     None       1100.0        False  \n",
       "2   None  DF  TEMPORARIA        None     None       1100.0        False  \n",
       "3   None  DF  TEMPORARIA        None     None       1100.0        False  \n",
       "4   None  DF  TEMPORARIA        None     None       1100.0        False  "
      ]
     },
     "metadata": {},
     "execution_count": 8
    }
   ],
   "metadata": {}
  },
  {
   "cell_type": "code",
   "execution_count": 9,
   "source": [
    "### Gravação na Staging\n",
    "outPath = f'{local_zones[\"staging\"]}/pensionistas'\n",
    "df_pensionistas.write.format('parquet').save(outPath, mode='overwrite')"
   ],
   "outputs": [
    {
     "output_type": "stream",
     "name": "stderr",
     "text": []
    }
   ],
   "metadata": {}
  },
  {
   "cell_type": "markdown",
   "source": [
    "#### Etapa 03 - Enriquecimento dos dados no dataframe da Staging para gravação no Consumer"
   ],
   "metadata": {}
  },
  {
   "cell_type": "code",
   "execution_count": null,
   "source": [
    "# Contagem por UF\n",
    "(\n",
    "    df_pensionistas\n",
    "    .groupBy('uf')\n",
    "    .agg(\n",
    "        f.format_number(f.count(f.col('nome')),0).alias('Quant')\n",
    "        )\n",
    "    .orderBy('uf')\n",
    "    .toPandas()\n",
    ")"
   ],
   "outputs": [],
   "metadata": {}
  },
  {
   "cell_type": "code",
   "execution_count": 15,
   "source": [
    "# Trantando e convertendo as colunas\n",
    "df_pensionistas = (\n",
    "    df_pensionistas\n",
    "    .select('nome', 'orgao', 'dtnasc', 'uf', 'natpensao', 'dtiniben', 'dtfimben', 'rendLiquido', 'pagsuspenso')\n",
    "    .withColumn('limitMax35', f.expr('round(rendLiquido*0.35,2)').cast('float') )\n",
    "    .withColumn('limitMax40', f.expr('round(rendLiquido*0.40,2)').cast('float') )\n",
    "    .withColumn('codFaixaRenda', f.when(f.col('rendLiquido').between(0,3000),1)\n",
    "                             .when(f.col('rendLiquido').between(3001,7000),2)\n",
    "                             .when(f.col('rendLiquido').between(7001,15000),3)\n",
    "                             .when(f.col('rendLiquido').between(15001,30000),4)\n",
    "                             .otherwise(5) )\n",
    "    .withColumn('descFaixaRenda', f.when(f.col('codFaixaRenda')==1,'Entre 0 e 3000')\n",
    "                             .when(f.col('codFaixaRenda')==2,'Entre 3001 e 7000')\n",
    "                             .when(f.col('codFaixaRenda')==3,'Entre 7001 e 15000')\n",
    "                             .when(f.col('codFaixaRenda')==4,'Entre 15001 e 30000')\n",
    "                             .otherwise('Acima de 30.000') )\n",
    "    .withColumn('idade' , f.floor( f.datediff( f.current_date(), f.col('dtnasc') ) / 365))\n",
    "    .withColumn('codFaixaIdade', f.when(f.col('idade').between(0,15),1)\n",
    "                             .when(f.col('idade').between(16,30),2)\n",
    "                             .when(f.col('idade').between(31,60),3)\n",
    "                             .when(f.isnull(f.col('idade')),0)\n",
    "                             .otherwise(4) )    \n",
    "    .withColumn('descFaixaIdade', f.when(f.col('codFaixaIdade')==1,'Entre 0 e 15 anos')\n",
    "                             .when(f.col('codFaixaIdade')==2,'Entre 16 e 30 anos')\n",
    "                             .when(f.col('codFaixaIdade')==3,'Entre 31 e 60 anos')\n",
    "                             .when(f.col('codFaixaIdade')==0,'Idade nao informada')\n",
    "                             .otherwise('Acima de 60 anos') )\n",
    ")"
   ],
   "outputs": [],
   "metadata": {}
  },
  {
   "cell_type": "code",
   "execution_count": 16,
   "source": [
    "# Contagem por Faixa de Idade\n",
    "(\n",
    "    df_pensionistas\n",
    "    .groupBy('codFaixaIdade','descFaixaIdade')\n",
    "    .agg(\n",
    "        f.format_number(f.count(f.col('nome')),0).alias('Quant')\n",
    "        )\n",
    "    .orderBy('codFaixaIdade','descFaixaIdade')\n",
    "    .toPandas()\n",
    ")"
   ],
   "outputs": [
    {
     "output_type": "stream",
     "name": "stderr",
     "text": []
    },
    {
     "output_type": "execute_result",
     "data": {
      "text/html": [
       "<div>\n",
       "<style scoped>\n",
       "    .dataframe tbody tr th:only-of-type {\n",
       "        vertical-align: middle;\n",
       "    }\n",
       "\n",
       "    .dataframe tbody tr th {\n",
       "        vertical-align: top;\n",
       "    }\n",
       "\n",
       "    .dataframe thead th {\n",
       "        text-align: right;\n",
       "    }\n",
       "</style>\n",
       "<table border=\"1\" class=\"dataframe\">\n",
       "  <thead>\n",
       "    <tr style=\"text-align: right;\">\n",
       "      <th></th>\n",
       "      <th>codFaixaIdade</th>\n",
       "      <th>descFaixaIdade</th>\n",
       "      <th>Quant</th>\n",
       "    </tr>\n",
       "  </thead>\n",
       "  <tbody>\n",
       "    <tr>\n",
       "      <th>0</th>\n",
       "      <td>0</td>\n",
       "      <td>Idade nao informada</td>\n",
       "      <td>54</td>\n",
       "    </tr>\n",
       "    <tr>\n",
       "      <th>1</th>\n",
       "      <td>1</td>\n",
       "      <td>Entre 0 e 15 anos</td>\n",
       "      <td>3,380</td>\n",
       "    </tr>\n",
       "    <tr>\n",
       "      <th>2</th>\n",
       "      <td>2</td>\n",
       "      <td>Entre 16 e 30 anos</td>\n",
       "      <td>6,113</td>\n",
       "    </tr>\n",
       "    <tr>\n",
       "      <th>3</th>\n",
       "      <td>3</td>\n",
       "      <td>Entre 31 e 60 anos</td>\n",
       "      <td>67,230</td>\n",
       "    </tr>\n",
       "    <tr>\n",
       "      <th>4</th>\n",
       "      <td>4</td>\n",
       "      <td>Acima de 60 anos</td>\n",
       "      <td>215,269</td>\n",
       "    </tr>\n",
       "  </tbody>\n",
       "</table>\n",
       "</div>"
      ],
      "text/plain": [
       "   codFaixaIdade       descFaixaIdade    Quant\n",
       "0              0  Idade nao informada       54\n",
       "1              1    Entre 0 e 15 anos    3,380\n",
       "2              2   Entre 16 e 30 anos    6,113\n",
       "3              3   Entre 31 e 60 anos   67,230\n",
       "4              4     Acima de 60 anos  215,269"
      ]
     },
     "metadata": {},
     "execution_count": 16
    }
   ],
   "metadata": {}
  },
  {
   "cell_type": "code",
   "execution_count": 17,
   "source": [
    "# Contagem por Faixa de Renda\n",
    "(\n",
    "    df_pensionistas\n",
    "    .groupBy('codFaixaRenda','descFaixaRenda')\n",
    "    .agg(\n",
    "        f.format_number(f.count(f.col('nome')),0).alias('Quant')\n",
    "        )\n",
    "    .orderBy('codFaixaRenda','descFaixaRenda')\n",
    "    .toPandas()\n",
    ")"
   ],
   "outputs": [
    {
     "output_type": "stream",
     "name": "stderr",
     "text": []
    },
    {
     "output_type": "execute_result",
     "data": {
      "text/html": [
       "<div>\n",
       "<style scoped>\n",
       "    .dataframe tbody tr th:only-of-type {\n",
       "        vertical-align: middle;\n",
       "    }\n",
       "\n",
       "    .dataframe tbody tr th {\n",
       "        vertical-align: top;\n",
       "    }\n",
       "\n",
       "    .dataframe thead th {\n",
       "        text-align: right;\n",
       "    }\n",
       "</style>\n",
       "<table border=\"1\" class=\"dataframe\">\n",
       "  <thead>\n",
       "    <tr style=\"text-align: right;\">\n",
       "      <th></th>\n",
       "      <th>codFaixaRenda</th>\n",
       "      <th>descFaixaRenda</th>\n",
       "      <th>Quant</th>\n",
       "    </tr>\n",
       "  </thead>\n",
       "  <tbody>\n",
       "    <tr>\n",
       "      <th>0</th>\n",
       "      <td>1</td>\n",
       "      <td>Entre 0 e 3000</td>\n",
       "      <td>129,938</td>\n",
       "    </tr>\n",
       "    <tr>\n",
       "      <th>1</th>\n",
       "      <td>2</td>\n",
       "      <td>Entre 3001 e 7000</td>\n",
       "      <td>124,437</td>\n",
       "    </tr>\n",
       "    <tr>\n",
       "      <th>2</th>\n",
       "      <td>3</td>\n",
       "      <td>Entre 7001 e 15000</td>\n",
       "      <td>28,801</td>\n",
       "    </tr>\n",
       "    <tr>\n",
       "      <th>3</th>\n",
       "      <td>4</td>\n",
       "      <td>Entre 15001 e 30000</td>\n",
       "      <td>8,607</td>\n",
       "    </tr>\n",
       "    <tr>\n",
       "      <th>4</th>\n",
       "      <td>5</td>\n",
       "      <td>Acima de 30.000</td>\n",
       "      <td>263</td>\n",
       "    </tr>\n",
       "  </tbody>\n",
       "</table>\n",
       "</div>"
      ],
      "text/plain": [
       "   codFaixaRenda       descFaixaRenda    Quant\n",
       "0              1       Entre 0 e 3000  129,938\n",
       "1              2    Entre 3001 e 7000  124,437\n",
       "2              3   Entre 7001 e 15000   28,801\n",
       "3              4  Entre 15001 e 30000    8,607\n",
       "4              5      Acima de 30.000      263"
      ]
     },
     "metadata": {},
     "execution_count": 17
    }
   ],
   "metadata": {}
  },
  {
   "cell_type": "code",
   "execution_count": 18,
   "source": [
    "### Gravação na Consumer\n",
    "outPath = f'{local_zones[\"consumer\"]}/pensionistas'\n",
    "df_pensionistas.write.format('parquet').save(outPath, mode='overwrite')"
   ],
   "outputs": [
    {
     "output_type": "stream",
     "name": "stderr",
     "text": []
    }
   ],
   "metadata": {}
  }
 ],
 "metadata": {
  "kernelspec": {
   "name": "python3",
   "display_name": "Python 3.8.2 64-bit ('venv': venv)"
  },
  "language_info": {
   "codemirror_mode": {
    "name": "ipython",
    "version": 3
   },
   "file_extension": ".py",
   "mimetype": "text/x-python",
   "name": "python",
   "nbconvert_exporter": "python",
   "pygments_lexer": "ipython3",
   "version": "3.8.2"
  },
  "interpreter": {
   "hash": "96b577b15a68a61d495e34938adaa9df3d6beac09e53842e3114afcb7393acc8"
  }
 },
 "nbformat": 4,
 "nbformat_minor": 5
}